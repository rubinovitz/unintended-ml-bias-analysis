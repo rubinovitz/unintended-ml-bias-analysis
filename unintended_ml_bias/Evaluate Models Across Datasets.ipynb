{
 "cells": [
  {
   "cell_type": "code",
   "execution_count": 1,
   "metadata": {},
   "outputs": [
    {
     "name": "stderr",
     "output_type": "stream",
     "text": [
      "Using TensorFlow backend.\n"
     ]
    }
   ],
   "source": [
    "import pandas as pd\n",
    "from model_tool import ToxModel"
   ]
  },
  {
   "cell_type": "code",
   "execution_count": 2,
   "metadata": {
    "collapsed": true
   },
   "outputs": [],
   "source": [
    "SPLITS = ['train', 'dev', 'test']\n",
    "\n",
    "data = {\n",
    "    'wiki': {},\n",
    "    'debias': {},\n",
    "    'debias_random': {} \n",
    "}\n",
    "\n",
    "for split in SPLITS:\n",
    "    data['wiki'][split] = '../data/wiki_%s.csv' % split\n",
    "    data['debias'][split] = '../data/wiki_debias_%s.csv' % split\n",
    "    data['debias_random'][split] = '../data/wiki_debias_random_%s.csv' % split"
   ]
  },
  {
   "cell_type": "code",
   "execution_count": 3,
   "metadata": {
    "collapsed": true
   },
   "outputs": [],
   "source": [
    "model_names = {\n",
    "    'wiki': 'cnn_wiki_tox_v1',\n",
    "    'debias': 'cnn_debias_tox_v1',\n",
    "    'debias_random': 'cnn_debias_random_tox_v1'\n",
    "}"
   ]
  },
  {
   "cell_type": "code",
   "execution_count": 4,
   "metadata": {
    "collapsed": true
   },
   "outputs": [],
   "source": [
    "models = {k: ToxModel(v) for k, v in model_names.iteritems()}"
   ]
  },
  {
   "cell_type": "code",
   "execution_count": 5,
   "metadata": {
    "collapsed": true
   },
   "outputs": [],
   "source": [
    "auc_evals = pd.DataFrame()"
   ]
  },
  {
   "cell_type": "code",
   "execution_count": 6,
   "metadata": {
    "collapsed": true
   },
   "outputs": [],
   "source": [
    "for m in models:\n",
    "    for d in data:\n",
    "        auc_evals.loc['%s_model' % m, '%s_data' % d] = models[m].prep_data_and_score(data[d]['test'], text_column = 'comment', label_column = 'is_toxic')"
   ]
  },
  {
   "cell_type": "code",
   "execution_count": 7,
   "metadata": {},
   "outputs": [
    {
     "data": {
      "text/html": [
       "<div>\n",
       "<style>\n",
       "    .dataframe thead tr:only-child th {\n",
       "        text-align: right;\n",
       "    }\n",
       "\n",
       "    .dataframe thead th {\n",
       "        text-align: left;\n",
       "    }\n",
       "\n",
       "    .dataframe tbody tr th {\n",
       "        vertical-align: top;\n",
       "    }\n",
       "</style>\n",
       "<table border=\"1\" class=\"dataframe\">\n",
       "  <thead>\n",
       "    <tr style=\"text-align: right;\">\n",
       "      <th></th>\n",
       "      <th>wiki_data</th>\n",
       "      <th>debias_data</th>\n",
       "      <th>debias_random_data</th>\n",
       "    </tr>\n",
       "  </thead>\n",
       "  <tbody>\n",
       "    <tr>\n",
       "      <th>wiki_model</th>\n",
       "      <td>0.969285</td>\n",
       "      <td>0.965343</td>\n",
       "      <td>0.969541</td>\n",
       "    </tr>\n",
       "    <tr>\n",
       "      <th>debias_model</th>\n",
       "      <td>0.964202</td>\n",
       "      <td>0.964192</td>\n",
       "      <td>0.964612</td>\n",
       "    </tr>\n",
       "    <tr>\n",
       "      <th>debias_random_model</th>\n",
       "      <td>0.971989</td>\n",
       "      <td>0.968828</td>\n",
       "      <td>0.972542</td>\n",
       "    </tr>\n",
       "  </tbody>\n",
       "</table>\n",
       "</div>"
      ],
      "text/plain": [
       "                     wiki_data  debias_data  debias_random_data\n",
       "wiki_model            0.969285     0.965343            0.969541\n",
       "debias_model          0.964202     0.964192            0.964612\n",
       "debias_random_model   0.971989     0.968828            0.972542"
      ]
     },
     "execution_count": 7,
     "metadata": {},
     "output_type": "execute_result"
    }
   ],
   "source": [
    "auc_evals"
   ]
  },
  {
   "cell_type": "code",
   "execution_count": null,
   "metadata": {
    "collapsed": true
   },
   "outputs": [],
   "source": []
  }
 ],
 "metadata": {
  "kernelspec": {
   "display_name": "Python 2",
   "language": "python",
   "name": "python2"
  },
  "language_info": {
   "codemirror_mode": {
    "name": "ipython",
    "version": 2
   },
   "file_extension": ".py",
   "mimetype": "text/x-python",
   "name": "python",
   "nbconvert_exporter": "python",
   "pygments_lexer": "ipython2",
   "version": "2.7.13"
  }
 },
 "nbformat": 4,
 "nbformat_minor": 2
}
