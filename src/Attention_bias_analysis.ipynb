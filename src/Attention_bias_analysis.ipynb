{
 "cells": [
  {
   "cell_type": "markdown",
   "metadata": {},
   "source": [
    "# Attention Toxicity Model"
   ]
  },
  {
   "cell_type": "code",
   "execution_count": 32,
   "metadata": {},
   "outputs": [],
   "source": [
    "from __future__ import absolute_import\n",
    "from __future__ import division\n",
    "from __future__ import print_function\n",
    "\n",
    "import pandas as pd\n",
    "import numpy as np\n",
    "import matplotlib.pyplot as plt\n",
    "\n",
    "from model_tool import AttentionToxModel\n",
    "import random"
   ]
  },
  {
   "cell_type": "markdown",
   "metadata": {},
   "source": [
    "## Load Data"
   ]
  },
  {
   "cell_type": "code",
   "execution_count": 22,
   "metadata": {
    "collapsed": true
   },
   "outputs": [],
   "source": [
    "SPLITS = ['train', 'dev', 'test']\n",
    "\n",
    "wiki = {}\n",
    "debias = {}\n",
    "random = {}\n",
    "for split in SPLITS:\n",
    "    wiki[split] = '../data/wiki_%s.csv' % split\n",
    "    debias[split] = '../data/wiki_debias_%s.csv' % split\n",
    "    random[split] = '../data/wiki_debias_random_%s.csv' % split"
   ]
  },
  {
   "cell_type": "markdown",
   "metadata": {},
   "source": [
    "## Train Model"
   ]
  },
  {
   "cell_type": "code",
   "execution_count": 28,
   "metadata": {},
   "outputs": [
    {
     "name": "stdout",
     "output_type": "stream",
     "text": [
      "Hyperparameters\n",
      "---------------\n",
      "max_num_words: 10000\n",
      "dropout_rate: 0.3\n",
      "verbose: True\n",
      "cnn_pooling_sizes: [5, 5, 40]\n",
      "es_min_delta: 0\n",
      "learning_rate: 5e-05\n",
      "embedding_dim: 100\n",
      "cnn_kernel_sizes: [5, 5, 5]\n",
      "es_patience: 1\n",
      "epochs: 20\n",
      "cnn_filter_sizes: [128, 128, 128]\n",
      "batch_size: 128\n",
      "model_name: cnn_attention_random_tox_v5\n",
      "max_sequence_length: 250\n",
      "stop_early: True\n",
      "embedding_trainable: False\n",
      "\n"
     ]
    }
   ],
   "source": [
    "MODEL_NAME = 'cnn_attention_random_tox_v5'\n",
    "model = AttentionToxModel()\n",
    "model.train(random['train'], random['dev'], text_column = 'comment', label_column = 'is_toxic', model_name = MODEL_NAME)"
   ]
  },
  {
   "cell_type": "code",
   "execution_count": 33,
   "metadata": {},
   "outputs": [
    {
     "name": "stdout",
     "output_type": "stream",
     "text": [
      "----- activations -----\n",
      "(58, 250)\n"
     ]
    },
    {
     "data": {
      "text/plain": [
       "array([  4.07489970e-05,   7.23827179e-05,   4.03804646e-04, ...,\n",
       "         3.46041960e-03,   3.66222695e-03,   3.44262132e-03], dtype=float32)"
      ]
     },
     "metadata": {},
     "output_type": "display_data"
    },
    {
     "data": {
      "image/png": "[encoded data removed]",
      "text/plain": [
       "<matplotlib.figure.Figure at 0x11b8e5250>"
      ]
     },
     "metadata": {},
     "output_type": "display_data"
    },
    {
     "name": "stdout",
     "output_type": "stream",
     "text": [
      "----- activations -----\n",
      "(73, 250)\n"
     ]
    },
    {
     "data": {
      "text/plain": [
       "array([  2.87187049e-06,   8.57596478e-06,   1.00880716e-04, ...,\n",
       "         3.42189288e-03,   4.28603450e-03,   3.86144291e-03], dtype=float32)"
      ]
     },
     "metadata": {},
     "output_type": "display_data"
    },
    {
     "data": {
      "image/png": "[encoded data removed]",
      "text/plain": [
       "<matplotlib.figure.Figure at 0x11cb8c190>"
      ]
     },
     "metadata": {},
     "output_type": "display_data"
    },
    {
     "name": "stdout",
     "output_type": "stream",
     "text": [
      "----- activations -----\n",
      "(185, 250)\n"
     ]
    },
    {
     "data": {
      "text/plain": [
       "array([  5.84759086e-09,   3.89753687e-08,   1.52615780e-06, ...,\n",
       "         3.38792196e-03,   4.04390320e-03,   3.62059637e-03], dtype=float32)"
      ]
     },
     "metadata": {},
     "output_type": "display_data"
    },
    {
     "data": {
      "image/png": "[encoded data removed]",
      "text/plain": [
       "<matplotlib.figure.Figure at 0x105369150>"
      ]
     },
     "metadata": {},
     "output_type": "display_data"
    },
    {
     "name": "stdout",
     "output_type": "stream",
     "text": [
      "----- activations -----\n",
      "(96, 250)\n"
     ]
    },
    {
     "data": {
      "text/plain": [
       "array([  4.97704332e-06,   1.59906722e-05,   9.62080958e-05, ...,\n",
       "         3.50773591e-03,   3.66381533e-03,   3.56236054e-03], dtype=float32)"
      ]
     },
     "metadata": {},
     "output_type": "display_data"
    },
    {
     "data": {
      "image/png": "[encoded data removed]",
      "text/plain": [
       "<matplotlib.figure.Figure at 0x1054a5a50>"
      ]
     },
     "metadata": {},
     "output_type": "display_data"
    },
    {
     "name": "stdout",
     "output_type": "stream",
     "text": [
      "[ 0.68332732  0.00453487  0.05003132  0.02246417]\n"
     ]
    }
   ],
   "source": [
    "import keras.backend as K \n",
    "def get_activations(model, inputs, print_shape_only=False, layer_name=None):\n",
    "    # Documentation is available online on Github at the address below.\n",
    "    # From: https://github.com/philipperemy/keras-visualize-activations\n",
    "    print('----- activations -----')\n",
    "    activations = []\n",
    "    inp = model.input\n",
    "    if layer_name is None:\n",
    "        outputs = [layer.output for layer in model.layers]\n",
    "    else:\n",
    "        outputs = [layer.output for layer in model.layers if layer.name == layer_name]  # all layer outputs\n",
    "    funcs = [K.function([inp] + [K.learning_phase()], [out]) for out in outputs]  # evaluation functions\n",
    "    layer_outputs = [func([inputs, 1.])[0] for func in funcs]\n",
    "    for layer_activations in layer_outputs:\n",
    "        activations.append(layer_activations)\n",
    "        if print_shape_only:\n",
    "            print(layer_activations.shape)\n",
    "        else:\n",
    "            print(layer_activations)\n",
    "    return activations\n",
    "\n",
    "# some selected passages of text from the wikipedia toxicity dataset\n",
    "input_texts = [\n",
    "        'Now go suck Cyphoidbomb\\'s transgenders dick if he has one.',\n",
    "        'Please relate the ozone hole to increases in cancer, and provide figures.',\n",
    "        'Is there any organisation that takes an impartial view in things, that did a mass study on gamergate and come to any solid conclusions about the nature of GamerGate? I\\'d love to see it.',\n",
    "        'This is fanaticism.  I suppose that next you will want to ``fix`` references to ``Christianity``']\n",
    "\n",
    "def run_graph(input_texts):\n",
    "    for input_text in input_texts:\n",
    "        activations = get_activations(model.probs_model, model.prep_text(input_text), \n",
    "                                      print_shape_only=True,layer_name=\"attention_vec\")\n",
    "        activations_flat = activations[0].flatten()\n",
    "        # 250 activations per character\n",
    "        display(activations_flat)\n",
    "        small = np.squeeze(activations_flat)[:len(input_text)]\n",
    "        plt.plot(range(len(input_text)),small)\n",
    "        plt.xticks(range(len(input_text)), [x for x in input_text])\n",
    "        plt.show()\n",
    "\n",
    "# run graphing\n",
    "run_graph(input_texts)\n",
    "# print the toxicity of each text\n",
    "print(model.predict(input_texts))\n"
   ]
  }
 ],
 "metadata": {
  "kernelspec": {
   "display_name": "Python 2",
   "language": "python",
   "name": "python2"
  },
  "language_info": {
   "codemirror_mode": {
    "name": "ipython",
    "version": 2
   },
   "file_extension": ".py",
   "mimetype": "text/x-python",
   "name": "python",
   "nbconvert_exporter": "python",
   "pygments_lexer": "ipython2",
   "version": "2.7.13"
  }
 },
 "nbformat": 4,
 "nbformat_minor": 2
}
